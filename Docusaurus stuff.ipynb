{
 "cells": [
  {
   "cell_type": "code",
   "execution_count": 1,
   "id": "209e68be-50ad-4afc-9592-b6eda518f7d3",
   "metadata": {
    "scrolled": true
   },
   "outputs": [
    {
     "data": {
      "text/plain": [
       "Corrected device name\n",
       "Keithley 6220    3\n",
       "Keithley 2000    3\n",
       "Keithley 2450    3\n",
       "Yokogawa 7651    2\n",
       "HMP 4040         2\n",
       "                ..\n",
       "LDA-302P-2N      1\n",
       "Keithley 6485    1\n",
       "MFLI             1\n",
       "ZVL 13           1\n",
       "SR 510           1\n",
       "Name: count, Length: 375, dtype: int64"
      ]
     },
     "execution_count": 1,
     "metadata": {},
     "output_type": "execute_result"
    }
   ],
   "source": [
    "import pandas as pd\n",
    "from load_data import load_data, Cols\n",
    "\n",
    "df = load_data()\n",
    "df[Cols.correct_device_name].value_counts()\n",
    "\n",
    "\n"
   ]
  },
  {
   "cell_type": "code",
   "execution_count": 83,
   "id": "52b29d75-f39d-45b9-91d8-0fb0d88e2e02",
   "metadata": {},
   "outputs": [
    {
     "data": {
      "text/plain": [
       "'Keithley 6220'"
      ]
     },
     "execution_count": 83,
     "metadata": {},
     "output_type": "execute_result"
    }
   ],
   "source": [
    "d = \"Keithley 6220\".replace(\"/\", \"_\")\n",
    "d"
   ]
  },
  {
   "cell_type": "code",
   "execution_count": 3,
   "id": "bf3f04e3-2071-4c44-9333-4d96128a03ce",
   "metadata": {},
   "outputs": [
    {
     "name": "stdout",
     "output_type": "stream",
     "text": [
      "./snippets/instrumental_snippets/??.txt\n"
     ]
    }
   ],
   "source": [
    "!find . -name \"\\?\\?.txt\" "
   ]
  },
  {
   "cell_type": "code",
   "execution_count": null,
   "id": "a47d9492-6853-4ce4-9bc2-b9a52230c6bf",
   "metadata": {},
   "outputs": [],
   "source": [
    "!mv ./snippets/instrumental_snippets/??.txt ./snippets/instrumental_snippets/Rigol.txt "
   ]
  },
  {
   "cell_type": "code",
   "execution_count": 90,
   "id": "efda04e7-29f3-4320-9717-ccb9f5bf20f1",
   "metadata": {},
   "outputs": [
    {
     "name": "stdout",
     "output_type": "stream",
     "text": [
      "catch\n",
      "catch\n",
      "catch\n"
     ]
    }
   ],
   "source": [
    "for idx, row in df.iterrows():\n",
    "    library = row[Cols.library]\n",
    "    device_name = row[Cols.device_name]\n",
    "    corrected = row[Cols.correct_device_name]\n",
    "    device = corrected if corrected is not np.nan else device_name\n",
    "    if isinstance(device, float):\n",
    "        print(device)\n",
    "\n",
    "    # Don't redo one that already exists\n",
    "    device_file = device.replace(\"/\", \"-\")\n",
    "    if corrected == \"??\":\n",
    "        print(\"catch\")"
   ]
  },
  {
   "cell_type": "code",
   "execution_count": 86,
   "id": "8bdcd003-80c7-4291-bb22-a738e76a1c26",
   "metadata": {},
   "outputs": [
    {
     "data": {
      "text/html": [
       "<div>\n",
       "<style scoped>\n",
       "    .dataframe tbody tr th:only-of-type {\n",
       "        vertical-align: middle;\n",
       "    }\n",
       "\n",
       "    .dataframe tbody tr th {\n",
       "        vertical-align: top;\n",
       "    }\n",
       "\n",
       "    .dataframe thead th {\n",
       "        text-align: right;\n",
       "    }\n",
       "</style>\n",
       "<table border=\"1\" class=\"dataframe\">\n",
       "  <thead>\n",
       "    <tr style=\"text-align: right;\">\n",
       "      <th></th>\n",
       "      <th>Yearly revenue (millions, USD)</th>\n",
       "      <th>Vendor headquarters</th>\n",
       "      <th>Device Description</th>\n",
       "      <th>Device</th>\n",
       "      <th>Field 1</th>\n",
       "      <th>Vendor wikipedia or cruncbase description</th>\n",
       "      <th>Library</th>\n",
       "      <th>Vendor</th>\n",
       "      <th>Vendor logo</th>\n",
       "      <th>Vendor website</th>\n",
       "      <th>...</th>\n",
       "      <th>Corrected device name</th>\n",
       "      <th>Device datasheet (PDF)</th>\n",
       "      <th>Device picture</th>\n",
       "      <th>Device Description Link</th>\n",
       "      <th>GitHub link to Python driver (NOT LINK TO DOCS ON GITHUB)</th>\n",
       "      <th>Python docs link</th>\n",
       "      <th>Device Price</th>\n",
       "      <th>ChatGPT code</th>\n",
       "      <th>Obsolete</th>\n",
       "      <th>Notes</th>\n",
       "    </tr>\n",
       "  </thead>\n",
       "  <tbody>\n",
       "  </tbody>\n",
       "</table>\n",
       "<p>0 rows × 24 columns</p>\n",
       "</div>"
      ],
      "text/plain": [
       "Empty DataFrame\n",
       "Columns: [Yearly revenue (millions, USD), Vendor headquarters, Device Description, Device, Field 1, Vendor wikipedia or cruncbase description, Library, Vendor, Vendor logo, Vendor website, ChatGPT prompt, Category description link, Device Category, Category Description, Corrected device name, Device datasheet (PDF), Device picture, Device Description Link, GitHub link to Python driver (NOT LINK TO DOCS ON GITHUB), Python docs link, Device Price, ChatGPT code, Obsolete, Notes]\n",
       "Index: []\n",
       "\n",
       "[0 rows x 24 columns]"
      ]
     },
     "execution_count": 86,
     "metadata": {},
     "output_type": "execute_result"
    }
   ],
   "source": [
    "df[df[Cols.correct_device_name] == \"???\"]"
   ]
  },
  {
   "cell_type": "code",
   "execution_count": 3,
   "id": "7e488b13-e8dd-45c2-a921-d83e76695ba0",
   "metadata": {},
   "outputs": [
    {
     "data": {
      "text/html": [
       "<div>\n",
       "<style scoped>\n",
       "    .dataframe tbody tr th:only-of-type {\n",
       "        vertical-align: middle;\n",
       "    }\n",
       "\n",
       "    .dataframe tbody tr th {\n",
       "        vertical-align: top;\n",
       "    }\n",
       "\n",
       "    .dataframe thead th {\n",
       "        text-align: right;\n",
       "    }\n",
       "</style>\n",
       "<table border=\"1\" class=\"dataframe\">\n",
       "  <thead>\n",
       "    <tr style=\"text-align: right;\">\n",
       "      <th></th>\n",
       "      <th>Corrected device name</th>\n",
       "      <th>Device</th>\n",
       "      <th>Library</th>\n",
       "      <th>GitHub link to Python driver (NOT LINK TO DOCS ON GITHUB)</th>\n",
       "    </tr>\n",
       "  </thead>\n",
       "  <tbody>\n",
       "    <tr>\n",
       "      <th>208</th>\n",
       "      <td>Rigol DP831</td>\n",
       "      <td>DP 831</td>\n",
       "      <td>Qcodes</td>\n",
       "      <td>https://github.com/QCoDeS/Qcodes/blob/master/q...</td>\n",
       "    </tr>\n",
       "    <tr>\n",
       "      <th>236</th>\n",
       "      <td>Rigol DP821</td>\n",
       "      <td>DP 821</td>\n",
       "      <td>Qcodes</td>\n",
       "      <td>https://github.com/QCoDeS/Qcodes/blob/master/q...</td>\n",
       "    </tr>\n",
       "    <tr>\n",
       "      <th>291</th>\n",
       "      <td>Rigol DS1000 (Series)</td>\n",
       "      <td>Rigolds 1000 Series</td>\n",
       "      <td>Instrumentkit</td>\n",
       "      <td>https://github.com/instrumentkit/InstrumentKit...</td>\n",
       "    </tr>\n",
       "    <tr>\n",
       "      <th>293</th>\n",
       "      <td>Rigol DS1074Z</td>\n",
       "      <td>Rigol DS 1074 Z</td>\n",
       "      <td>Qcodes</td>\n",
       "      <td>https://github.com/QCoDeS/Qcodes/blob/master/q...</td>\n",
       "    </tr>\n",
       "    <tr>\n",
       "      <th>325</th>\n",
       "      <td>Rigol DG1062Z</td>\n",
       "      <td>Rigol DG 1062</td>\n",
       "      <td>Qcodes</td>\n",
       "      <td>https://github.com/QCoDeS/Qcodes/blob/master/q...</td>\n",
       "    </tr>\n",
       "    <tr>\n",
       "      <th>331</th>\n",
       "      <td>Rigol DS4000 (Series)</td>\n",
       "      <td>Rigol DS 4000</td>\n",
       "      <td>Qcodes</td>\n",
       "      <td>https://github.com/QCoDeS/Qcodes/blob/master/q...</td>\n",
       "    </tr>\n",
       "    <tr>\n",
       "      <th>342</th>\n",
       "      <td>Rigol DP832</td>\n",
       "      <td>DP 832</td>\n",
       "      <td>Qcodes</td>\n",
       "      <td>https://github.com/QCoDeS/Qcodes/blob/master/q...</td>\n",
       "    </tr>\n",
       "    <tr>\n",
       "      <th>375</th>\n",
       "      <td>Rigol DP8xx (xx --&gt; Series)</td>\n",
       "      <td>Private</td>\n",
       "      <td>Qcodes</td>\n",
       "      <td>https://github.com/QCoDeS/Qcodes/blob/master/q...</td>\n",
       "    </tr>\n",
       "  </tbody>\n",
       "</table>\n",
       "</div>"
      ],
      "text/plain": [
       "           Corrected device name               Device        Library  \\\n",
       "208                  Rigol DP831               DP 831         Qcodes   \n",
       "236                  Rigol DP821               DP 821         Qcodes   \n",
       "291        Rigol DS1000 (Series)  Rigolds 1000 Series  Instrumentkit   \n",
       "293                Rigol DS1074Z      Rigol DS 1074 Z         Qcodes   \n",
       "325                Rigol DG1062Z        Rigol DG 1062         Qcodes   \n",
       "331        Rigol DS4000 (Series)        Rigol DS 4000         Qcodes   \n",
       "342                  Rigol DP832               DP 832         Qcodes   \n",
       "375  Rigol DP8xx (xx --> Series)              Private         Qcodes   \n",
       "\n",
       "    GitHub link to Python driver (NOT LINK TO DOCS ON GITHUB)  \n",
       "208  https://github.com/QCoDeS/Qcodes/blob/master/q...         \n",
       "236  https://github.com/QCoDeS/Qcodes/blob/master/q...         \n",
       "291  https://github.com/instrumentkit/InstrumentKit...         \n",
       "293  https://github.com/QCoDeS/Qcodes/blob/master/q...         \n",
       "325  https://github.com/QCoDeS/Qcodes/blob/master/q...         \n",
       "331  https://github.com/QCoDeS/Qcodes/blob/master/q...         \n",
       "342  https://github.com/QCoDeS/Qcodes/blob/master/q...         \n",
       "375  https://github.com/QCoDeS/Qcodes/blob/master/q...         "
      ]
     },
     "execution_count": 3,
     "metadata": {},
     "output_type": "execute_result"
    }
   ],
   "source": [
    "df[df[Cols.correct_device_name].str.contains(\"Rigo\")][[Cols.correct_device_name, Cols.device_name, Cols.library, Cols.github_link]]"
   ]
  },
  {
   "cell_type": "code",
   "execution_count": 5,
   "id": "7d5be622-0f02-4ef0-9e61-6cc7a1bbc15a",
   "metadata": {},
   "outputs": [
    {
     "data": {
      "text/plain": [
       "['https://github.com/mabuchilab/Instrumental/blob/master/instrumental/drivers/scopes/rigol.py',\n",
       " 'https://github.com/mabuchilab/Instrumental/blob/master/instrumental/drivers/powersupplies/rigol.py',\n",
       " 'https://github.com/mabuchilab/Instrumental/blob/master/instrumental/drivers/funcgenerators/rigol.py']"
      ]
     },
     "execution_count": 5,
     "metadata": {},
     "output_type": "execute_result"
    }
   ],
   "source": [
    "df[df[Cols.correct_device_name]==\"??\"][Cols.github_link].tolist()"
   ]
  },
  {
   "cell_type": "code",
   "execution_count": null,
   "id": "31e0f64b-6c5b-41e3-8def-1648c7c0e02f",
   "metadata": {},
   "outputs": [],
   "source": []
  }
 ],
 "metadata": {
  "kernelspec": {
   "display_name": "Python 3 (ipykernel)",
   "language": "python",
   "name": "python3"
  },
  "language_info": {
   "codemirror_mode": {
    "name": "ipython",
    "version": 3
   },
   "file_extension": ".py",
   "mimetype": "text/x-python",
   "name": "python",
   "nbconvert_exporter": "python",
   "pygments_lexer": "ipython3",
   "version": "3.9.8"
  }
 },
 "nbformat": 4,
 "nbformat_minor": 5
}
